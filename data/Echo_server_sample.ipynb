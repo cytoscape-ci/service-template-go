{
 "cells": [
  {
   "cell_type": "markdown",
   "metadata": {},
   "source": [
    "# CI Template Sample Client"
   ]
  },
  {
   "cell_type": "code",
   "execution_count": null,
   "metadata": {
    "collapsed": false
   },
   "outputs": [],
   "source": [
    "import json, requests\n",
    "\n",
    "BASE = \"http://localhost:3000/\" # Local machine\n",
    "# BASE = \"http://192.168.99.100:3000/\" # Local Docker instance\n",
    "# BASE = \"http://192.168.99.100:8080/cx/v1/\" # Agent on Docker\n",
    "\n",
    "def jprint(data):\n",
    "    print(json.dumps(data, indent=4))\n",
    "    \n",
    "# Check status\n",
    "res = requests.get(BASE, json=my_data)\n",
    "jprint(res.json())"
   ]
  },
  {
   "cell_type": "code",
   "execution_count": null,
   "metadata": {
    "collapsed": false
   },
   "outputs": [],
   "source": [
    "my_data = {\n",
    "    \"message\": \"hi\",\n",
    "    \"myNumber\": 111222\n",
    "}\n",
    "\n",
    "res = requests.post(BASE + \"echo\", json=my_data)\n",
    "cyjsJson = res.json()\n",
    "\n",
    "jprint(cyjsJson)"
   ]
  }
 ],
 "metadata": {
  "kernelspec": {
   "display_name": "Python 3",
   "language": "python",
   "name": "python3"
  },
  "language_info": {
   "codemirror_mode": {
    "name": "ipython",
    "version": 3
   },
   "file_extension": ".py",
   "mimetype": "text/x-python",
   "name": "python",
   "nbconvert_exporter": "python",
   "pygments_lexer": "ipython3",
   "version": "3.4.3"
  }
 },
 "nbformat": 4,
 "nbformat_minor": 0
}
